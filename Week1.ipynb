{
  "nbformat": 4,
  "nbformat_minor": 0,
  "metadata": {
    "colab": {
      "provenance": [],
      "authorship_tag": "ABX9TyMo+h38jmYeVcy/gPF6u8/b",
      "include_colab_link": true
    },
    "kernelspec": {
      "name": "python3",
      "display_name": "Python 3"
    },
    "language_info": {
      "name": "python"
    }
  },
  "cells": [
    {
      "cell_type": "markdown",
      "metadata": {
        "id": "view-in-github",
        "colab_type": "text"
      },
      "source": [
        "<a href=\"https://colab.research.google.com/github/KevinMantillaP/week01/blob/main/Week1.ipynb\" target=\"_parent\"><img src=\"https://colab.research.google.com/assets/colab-badge.svg\" alt=\"Open In Colab\"/></a>"
      ]
    },
    {
      "cell_type": "code",
      "execution_count": 10,
      "metadata": {
        "id": "hxofD3CLJAh6"
      },
      "outputs": [],
      "source": [
        "from google.colab import files\n",
        "import os"
      ]
    },
    {
      "cell_type": "code",
      "source": [
        "directory = '/content/week01/data'"
      ],
      "metadata": {
        "id": "BK1hiab0JymA"
      },
      "execution_count": 11,
      "outputs": []
    },
    {
      "cell_type": "code",
      "source": [
        "# Leer los archivos TXT\n",
        "texts = {}\n",
        "for filename in os.listdir(directory):\n",
        "    if filename.endswith(\".txt\"):\n",
        "        with open(os.path.join(directory, filename), 'r') as file:\n",
        "            texts[filename] = file.read()"
      ],
      "metadata": {
        "id": "KGhOTJXZUwft"
      },
      "execution_count": 12,
      "outputs": []
    },
    {
      "cell_type": "code",
      "source": [
        "def search_word(word, texts):\n",
        "    found_in_books = []\n",
        "    for filename, content in texts.items():\n",
        "        if word.lower() in content.lower():\n",
        "            found_in_books.append(filename)\n",
        "    return found_in_books"
      ],
      "metadata": {
        "id": "wyjZAONXU7H1"
      },
      "execution_count": 13,
      "outputs": []
    },
    {
      "cell_type": "code",
      "source": [
        "# Interfaz de búsqueda\n",
        "search_term = input(\"Ingrese la palabra a buscar: \")\n",
        "results = search_word(search_term, texts)\n",
        "\n",
        "# Mostrar resultados\n",
        "if results:\n",
        "    print(f\"La palabra '{search_term}' se encuentra en los siguientes libros:\")\n",
        "    for result in results:\n",
        "        print(result)\n",
        "    print(f\"Total de libros que contienen la palabra: {len(results)}\")\n",
        "else:\n",
        "    print(f\"La palabra '{search_term}' no se encuentra en ningún libro.\")"
      ],
      "metadata": {
        "colab": {
          "base_uri": "https://localhost:8080/"
        },
        "id": "BV3czL-QVBrI",
        "outputId": "0fe2d4f8-8fc8-4dda-c7e1-508c8c24b9f8"
      },
      "execution_count": 14,
      "outputs": [
        {
          "output_type": "stream",
          "name": "stdout",
          "text": [
            "Ingrese la palabra a buscar: Percy\n",
            "La palabra 'Percy' se encuentra en los siguientes libros:\n",
            "pg59469.txt\n",
            "pg52882.txt\n",
            "pg73448.txt\n",
            "pg62119.txt\n",
            "pg37106.txt\n",
            "pg4300.txt\n",
            "pg44837.txt\n",
            "pg30254.txt\n",
            "pg1661.txt\n",
            "pg100.txt\n",
            "pg514.txt\n",
            "Total de libros que contienen la palabra: 11\n"
          ]
        }
      ]
    }
  ]
}