{
  "nbformat": 4,
  "nbformat_minor": 0,
  "metadata": {
    "colab": {
      "provenance": [],
      "authorship_tag": "ABX9TyMbkkTDVT++t/UuDq8iyekO",
      "include_colab_link": true
    },
    "kernelspec": {
      "name": "python3",
      "display_name": "Python 3"
    },
    "language_info": {
      "name": "python"
    }
  },
  "cells": [
    {
      "cell_type": "markdown",
      "metadata": {
        "id": "view-in-github",
        "colab_type": "text"
      },
      "source": [
        "<a href=\"https://colab.research.google.com/github/KevinMantillaP/week01/blob/main/Week1.ipynb\" target=\"_parent\"><img src=\"https://colab.research.google.com/assets/colab-badge.svg\" alt=\"Open In Colab\"/></a>"
      ]
    },
    {
      "cell_type": "code",
      "execution_count": 27,
      "metadata": {
        "id": "hxofD3CLJAh6"
      },
      "outputs": [],
      "source": [
        "from google.colab import files\n",
        "import os"
      ]
    },
    {
      "cell_type": "code",
      "source": [
        "directory = '/content/week01/data'"
      ],
      "metadata": {
        "id": "BK1hiab0JymA"
      },
      "execution_count": 28,
      "outputs": []
    },
    {
      "cell_type": "code",
      "source": [
        "# Read TXT files\n",
        "texts = {}\n",
        "for filename in os.listdir(directory):\n",
        "    if filename.endswith(\".txt\"):\n",
        "        with open(os.path.join(directory, filename), 'r') as file:\n",
        "            texts[filename] = file.read()"
      ],
      "metadata": {
        "id": "KGhOTJXZUwft"
      },
      "execution_count": 29,
      "outputs": []
    },
    {
      "cell_type": "code",
      "source": [
        "def search_word(word, texts):\n",
        "    found_in_books = []\n",
        "    for filename, content in texts.items():\n",
        "        if word.lower() in content.lower():\n",
        "            found_in_books.append(filename)\n",
        "    return found_in_books"
      ],
      "metadata": {
        "id": "wyjZAONXU7H1"
      },
      "execution_count": 30,
      "outputs": []
    },
    {
      "cell_type": "code",
      "source": [
        "# Search interface\n",
        "search_term = input(\"Ingrese la palabra a buscar: \")\n",
        "results = search_word(search_term, texts)\n",
        "# Show Results\n",
        "if results:\n",
        "    print(f\"La palabra '{search_term}' se encuentra en los siguientes libros:\")\n",
        "    for result in results:\n",
        "        print(result)\n",
        "    print(f\"Total de libros que contienen la palabra: {len(results)}\")\n",
        "else:\n",
        "    print(f\"La palabra '{search_term}' no se encuentra en ningún libro.\")"
      ],
      "metadata": {
        "colab": {
          "base_uri": "https://localhost:8080/"
        },
        "id": "BV3czL-QVBrI",
        "outputId": "afcae3c5-ecc2-47c8-b46c-195a8a93ea61"
      },
      "execution_count": 32,
      "outputs": [
        {
          "output_type": "stream",
          "name": "stdout",
          "text": [
            "Ingrese la palabra a buscar: percy\n",
            "La palabra 'percy' se encuentra en los siguientes libros:\n",
            "pg59469.txt\n",
            "pg52882.txt\n",
            "pg73448.txt\n",
            "pg62119.txt\n",
            "pg37106.txt\n",
            "pg4300.txt\n",
            "pg44837.txt\n",
            "pg30254.txt\n",
            "pg1661.txt\n",
            "pg100.txt\n",
            "pg514.txt\n",
            "Total de libros que contienen la palabra: 11\n"
          ]
        }
      ]
    }
  ]
}